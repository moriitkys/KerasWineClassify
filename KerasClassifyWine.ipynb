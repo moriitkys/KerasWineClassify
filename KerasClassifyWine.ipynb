{
 "cells": [
  {
   "cell_type": "markdown",
   "metadata": {},
   "source": [
    "# Keras Wine Classify(by moriitkys 2020/05)\n",
    "【キカガク流】現場で使えるChainerによるディープラーニング入門　を参考にしています。（下にページ記載）  \n",
    "上記講座ではChainerによる実装をしていますが、このノートブックではKerasで同様のことを実装しています。また、実装では\n",
    "https://qiita.com/moriitkys/items/cd57b139bcdaf6bd0e5e\n",
    "を参考にしています。\n",
    "\n",
    "【キカガク流】現場で使えるChainerによるディープラーニング入門\n",
    "https://www.udemy.com/course/kikagaku-chainer/learn/lecture/11004080#overview\n",
    "\n",
    "scikit-learnで入手できるワインの種類とそれぞれの13の特徴量がまとめられたデータセットを機械学習で分類するためのプログラムです。\n",
    "\n",
    "## 環境\n",
    "Anaconda3  \n",
    "pandas==0.23.0  \n",
    "scikit-learn==0.19.1  \n",
    "seaborn==0.8.1  \n",
    "tensorflow-gpu==1.5.0  \n",
    "Keras==2.1.5  \n",
    "以上で何か足りないものがあればpipでインストールしてください。"
   ]
  },
  {
   "cell_type": "markdown",
   "metadata": {},
   "source": [
    "# ライブラリとデータセットのインポート\n",
    "scikit-learnで読み込んだワインのデータセットはwine.dataで説明変数を、wine.targetで目的変数を取り出すことができます。\n",
    "また、中心化や標準化もしておきます。"
   ]
  },
  {
   "cell_type": "code",
   "execution_count": 10,
   "metadata": {},
   "outputs": [],
   "source": [
    "from sklearn.model_selection import train_test_split\n",
    "from sklearn.datasets import load_wine\n",
    "import pandas as pd\n",
    "import keras\n",
    "from keras.models import Sequential\n",
    "from keras.layers import Dense, Dropout\n",
    "import matplotlib.pyplot as plt\n",
    "\n",
    "wine = load_wine()\n",
    "df = pd.DataFrame(wine.data, columns=wine.feature_names)\n",
    "dataset_mean = df.mean()\n",
    "#pd.DataFrame(wine.target)\n",
    "\n",
    "# Centering\n",
    "df_c = df-df.mean()\n",
    "# Normalizing\n",
    "df_norm = (df_c - df_c.mean()) / (df_c.max() - df_c.min())"
   ]
  },
  {
   "cell_type": "markdown",
   "metadata": {},
   "source": [
    "# 変数はデータセットによって変更\n",
    " - 機械学習のモデルへ入力する変数 *s* (説明変数)\n",
    " - 分類する変数 *nb_classes* (目的変数)\n",
    " \n",
    "を決める。"
   ]
  },
  {
   "cell_type": "code",
   "execution_count": 2,
   "metadata": {},
   "outputs": [],
   "source": [
    "s = 13\n",
    "nb_classes = 3"
   ]
  },
  {
   "cell_type": "markdown",
   "metadata": {},
   "source": [
    "# データセットを訓練用と評価用(25%)に分ける"
   ]
  },
  {
   "cell_type": "code",
   "execution_count": 3,
   "metadata": {},
   "outputs": [],
   "source": [
    "# Split data\n",
    "from keras.utils import np_utils\n",
    "train_X, test_X, train_Y, test_Y = train_test_split(df_norm, wine.target[:], test_size = 0.25)\n",
    "\n",
    "train_Y1 = np_utils.to_categorical(train_Y,nb_classes)\n",
    "test_Y1 = np_utils.to_categorical(test_Y,nb_classes)"
   ]
  },
  {
   "cell_type": "markdown",
   "metadata": {},
   "source": [
    "# モデルの構築、学習の実行\n",
    "opt = keras.optimizers.SGD(lr=0.08)の部分を変えて結果がどのように変化するかチェックしてみてください。"
   ]
  },
  {
   "cell_type": "code",
   "execution_count": 4,
   "metadata": {},
   "outputs": [
    {
     "name": "stdout",
     "output_type": "stream",
     "text": [
      "Train on 133 samples, validate on 45 samples\n",
      "Epoch 1/50\n",
      "133/133 [==============================] - 1s 9ms/step - loss: 1.0569 - mean_absolute_error: 0.4345 - acc: 0.5865 - val_loss: 1.0484 - val_mean_absolute_error: 0.4326 - val_acc: 0.6667\n",
      "Epoch 2/50\n",
      "133/133 [==============================] - 0s 172us/step - loss: 1.0095 - mean_absolute_error: 0.4231 - acc: 0.7895 - val_loss: 1.0031 - val_mean_absolute_error: 0.4217 - val_acc: 0.8889\n",
      "Epoch 3/50\n",
      "133/133 [==============================] - 0s 172us/step - loss: 0.9627 - mean_absolute_error: 0.4114 - acc: 0.8872 - val_loss: 0.9600 - val_mean_absolute_error: 0.4108 - val_acc: 0.9111\n",
      "Epoch 4/50\n",
      "133/133 [==============================] - 0s 157us/step - loss: 0.9185 - mean_absolute_error: 0.3995 - acc: 0.9398 - val_loss: 0.9172 - val_mean_absolute_error: 0.3995 - val_acc: 0.9556\n",
      "Epoch 5/50\n",
      "133/133 [==============================] - 0s 150us/step - loss: 0.8768 - mean_absolute_error: 0.3878 - acc: 0.9549 - val_loss: 0.8753 - val_mean_absolute_error: 0.3879 - val_acc: 0.9778\n",
      "Epoch 6/50\n",
      "133/133 [==============================] - 0s 157us/step - loss: 0.8347 - mean_absolute_error: 0.3756 - acc: 0.9624 - val_loss: 0.8346 - val_mean_absolute_error: 0.3760 - val_acc: 0.9778\n",
      "Epoch 7/50\n",
      "133/133 [==============================] - 0s 172us/step - loss: 0.7938 - mean_absolute_error: 0.3632 - acc: 0.9699 - val_loss: 0.7953 - val_mean_absolute_error: 0.3639 - val_acc: 0.9778\n",
      "Epoch 8/50\n",
      "133/133 [==============================] - 0s 150us/step - loss: 0.7534 - mean_absolute_error: 0.3499 - acc: 0.9624 - val_loss: 0.7563 - val_mean_absolute_error: 0.3515 - val_acc: 1.0000\n",
      "Epoch 9/50\n",
      "133/133 [==============================] - 0s 172us/step - loss: 0.7147 - mean_absolute_error: 0.3370 - acc: 0.9624 - val_loss: 0.7179 - val_mean_absolute_error: 0.3388 - val_acc: 1.0000\n",
      "Epoch 10/50\n",
      "133/133 [==============================] - 0s 142us/step - loss: 0.6772 - mean_absolute_error: 0.3240 - acc: 0.9624 - val_loss: 0.6808 - val_mean_absolute_error: 0.3260 - val_acc: 1.0000\n",
      "Epoch 11/50\n",
      "133/133 [==============================] - 0s 150us/step - loss: 0.6405 - mean_absolute_error: 0.3108 - acc: 0.9699 - val_loss: 0.6458 - val_mean_absolute_error: 0.3133 - val_acc: 1.0000\n",
      "Epoch 12/50\n",
      "133/133 [==============================] - 0s 165us/step - loss: 0.6054 - mean_absolute_error: 0.2972 - acc: 0.9624 - val_loss: 0.6114 - val_mean_absolute_error: 0.3006 - val_acc: 1.0000\n",
      "Epoch 13/50\n",
      "133/133 [==============================] - 0s 157us/step - loss: 0.5718 - mean_absolute_error: 0.2843 - acc: 0.9624 - val_loss: 0.5786 - val_mean_absolute_error: 0.2881 - val_acc: 1.0000\n",
      "Epoch 14/50\n",
      "133/133 [==============================] - 0s 142us/step - loss: 0.5410 - mean_absolute_error: 0.2720 - acc: 0.9624 - val_loss: 0.5471 - val_mean_absolute_error: 0.2757 - val_acc: 1.0000\n",
      "Epoch 15/50\n",
      "133/133 [==============================] - 0s 142us/step - loss: 0.5115 - mean_absolute_error: 0.2597 - acc: 0.9624 - val_loss: 0.5174 - val_mean_absolute_error: 0.2637 - val_acc: 1.0000\n",
      "Epoch 16/50\n",
      "133/133 [==============================] - 0s 165us/step - loss: 0.4835 - mean_absolute_error: 0.2479 - acc: 0.9624 - val_loss: 0.4893 - val_mean_absolute_error: 0.2520 - val_acc: 1.0000\n",
      "Epoch 17/50\n",
      "133/133 [==============================] - 0s 142us/step - loss: 0.4575 - mean_absolute_error: 0.2368 - acc: 0.9699 - val_loss: 0.4628 - val_mean_absolute_error: 0.2407 - val_acc: 1.0000\n",
      "Epoch 18/50\n",
      "133/133 [==============================] - 0s 150us/step - loss: 0.4332 - mean_absolute_error: 0.2258 - acc: 0.9624 - val_loss: 0.4378 - val_mean_absolute_error: 0.2300 - val_acc: 1.0000\n",
      "Epoch 19/50\n",
      "133/133 [==============================] - 0s 142us/step - loss: 0.4107 - mean_absolute_error: 0.2157 - acc: 0.9624 - val_loss: 0.4149 - val_mean_absolute_error: 0.2199 - val_acc: 1.0000\n",
      "Epoch 20/50\n",
      "133/133 [==============================] - 0s 150us/step - loss: 0.3901 - mean_absolute_error: 0.2065 - acc: 0.9699 - val_loss: 0.3938 - val_mean_absolute_error: 0.2102 - val_acc: 1.0000\n",
      "Epoch 21/50\n",
      "133/133 [==============================] - 0s 172us/step - loss: 0.3701 - mean_absolute_error: 0.1970 - acc: 0.9699 - val_loss: 0.3737 - val_mean_absolute_error: 0.2010 - val_acc: 1.0000\n",
      "Epoch 22/50\n",
      "133/133 [==============================] - 0s 150us/step - loss: 0.3521 - mean_absolute_error: 0.1883 - acc: 0.9699 - val_loss: 0.3552 - val_mean_absolute_error: 0.1923 - val_acc: 1.0000\n",
      "Epoch 23/50\n",
      "133/133 [==============================] - 0s 150us/step - loss: 0.3352 - mean_absolute_error: 0.1803 - acc: 0.9774 - val_loss: 0.3380 - val_mean_absolute_error: 0.1842 - val_acc: 1.0000\n",
      "Epoch 24/50\n",
      "133/133 [==============================] - 0s 150us/step - loss: 0.3196 - mean_absolute_error: 0.1726 - acc: 0.9774 - val_loss: 0.3216 - val_mean_absolute_error: 0.1763 - val_acc: 1.0000\n",
      "Epoch 25/50\n",
      "133/133 [==============================] - 0s 157us/step - loss: 0.3049 - mean_absolute_error: 0.1655 - acc: 0.9774 - val_loss: 0.3062 - val_mean_absolute_error: 0.1688 - val_acc: 1.0000\n",
      "Epoch 26/50\n",
      "133/133 [==============================] - 0s 180us/step - loss: 0.2915 - mean_absolute_error: 0.1589 - acc: 0.9774 - val_loss: 0.2924 - val_mean_absolute_error: 0.1619 - val_acc: 1.0000\n",
      "Epoch 27/50\n",
      "133/133 [==============================] - 0s 135us/step - loss: 0.2788 - mean_absolute_error: 0.1524 - acc: 0.9774 - val_loss: 0.2795 - val_mean_absolute_error: 0.1555 - val_acc: 1.0000\n",
      "Epoch 28/50\n",
      "133/133 [==============================] - 0s 150us/step - loss: 0.2672 - mean_absolute_error: 0.1464 - acc: 0.9774 - val_loss: 0.2674 - val_mean_absolute_error: 0.1494 - val_acc: 1.0000\n",
      "Epoch 29/50\n",
      "133/133 [==============================] - 0s 157us/step - loss: 0.2565 - mean_absolute_error: 0.1409 - acc: 0.9774 - val_loss: 0.2564 - val_mean_absolute_error: 0.1437 - val_acc: 1.0000\n",
      "Epoch 30/50\n",
      "133/133 [==============================] - 0s 135us/step - loss: 0.2462 - mean_absolute_error: 0.1355 - acc: 0.9774 - val_loss: 0.2460 - val_mean_absolute_error: 0.1384 - val_acc: 1.0000\n",
      "Epoch 31/50\n",
      "133/133 [==============================] - 0s 142us/step - loss: 0.2368 - mean_absolute_error: 0.1306 - acc: 0.9850 - val_loss: 0.2364 - val_mean_absolute_error: 0.1334 - val_acc: 1.0000\n",
      "Epoch 32/50\n",
      "133/133 [==============================] - 0s 142us/step - loss: 0.2288 - mean_absolute_error: 0.1263 - acc: 0.9850 - val_loss: 0.2272 - val_mean_absolute_error: 0.1286 - val_acc: 1.0000\n",
      "Epoch 33/50\n",
      "133/133 [==============================] - 0s 172us/step - loss: 0.2200 - mean_absolute_error: 0.1219 - acc: 0.9850 - val_loss: 0.2189 - val_mean_absolute_error: 0.1243 - val_acc: 1.0000\n",
      "Epoch 34/50\n",
      "133/133 [==============================] - 0s 150us/step - loss: 0.2123 - mean_absolute_error: 0.1177 - acc: 0.9850 - val_loss: 0.2112 - val_mean_absolute_error: 0.1202 - val_acc: 1.0000\n",
      "Epoch 35/50\n",
      "133/133 [==============================] - 0s 142us/step - loss: 0.2053 - mean_absolute_error: 0.1138 - acc: 0.9850 - val_loss: 0.2039 - val_mean_absolute_error: 0.1162 - val_acc: 1.0000\n",
      "Epoch 36/50\n",
      "133/133 [==============================] - 0s 142us/step - loss: 0.1985 - mean_absolute_error: 0.1102 - acc: 0.9850 - val_loss: 0.1971 - val_mean_absolute_error: 0.1126 - val_acc: 1.0000\n",
      "Epoch 37/50\n",
      "133/133 [==============================] - 0s 165us/step - loss: 0.1922 - mean_absolute_error: 0.1069 - acc: 0.9850 - val_loss: 0.1907 - val_mean_absolute_error: 0.1092 - val_acc: 1.0000\n",
      "Epoch 38/50\n",
      "133/133 [==============================] - 0s 142us/step - loss: 0.1863 - mean_absolute_error: 0.1038 - acc: 0.9850 - val_loss: 0.1846 - val_mean_absolute_error: 0.1059 - val_acc: 1.0000\n",
      "Epoch 39/50\n",
      "133/133 [==============================] - 0s 150us/step - loss: 0.1807 - mean_absolute_error: 0.1006 - acc: 0.9850 - val_loss: 0.1788 - val_mean_absolute_error: 0.1028 - val_acc: 1.0000\n",
      "Epoch 40/50\n",
      "133/133 [==============================] - 0s 142us/step - loss: 0.1753 - mean_absolute_error: 0.0977 - acc: 0.9850 - val_loss: 0.1735 - val_mean_absolute_error: 0.0998 - val_acc: 1.0000\n",
      "Epoch 41/50\n",
      "133/133 [==============================] - 0s 142us/step - loss: 0.1702 - mean_absolute_error: 0.0949 - acc: 0.9850 - val_loss: 0.1684 - val_mean_absolute_error: 0.0971 - val_acc: 1.0000\n"
     ]
    },
    {
     "name": "stdout",
     "output_type": "stream",
     "text": [
      "Epoch 42/50\n",
      "133/133 [==============================] - 0s 187us/step - loss: 0.1656 - mean_absolute_error: 0.0923 - acc: 0.9850 - val_loss: 0.1637 - val_mean_absolute_error: 0.0945 - val_acc: 1.0000\n",
      "Epoch 43/50\n",
      "133/133 [==============================] - 0s 142us/step - loss: 0.1609 - mean_absolute_error: 0.0900 - acc: 0.9850 - val_loss: 0.1592 - val_mean_absolute_error: 0.0920 - val_acc: 1.0000\n",
      "Epoch 44/50\n",
      "133/133 [==============================] - 0s 135us/step - loss: 0.1569 - mean_absolute_error: 0.0877 - acc: 0.9850 - val_loss: 0.1550 - val_mean_absolute_error: 0.0897 - val_acc: 1.0000\n",
      "Epoch 45/50\n",
      "133/133 [==============================] - 0s 150us/step - loss: 0.1527 - mean_absolute_error: 0.0854 - acc: 0.9850 - val_loss: 0.1509 - val_mean_absolute_error: 0.0874 - val_acc: 1.0000\n",
      "Epoch 46/50\n",
      "133/133 [==============================] - 0s 142us/step - loss: 0.1490 - mean_absolute_error: 0.0834 - acc: 0.9850 - val_loss: 0.1471 - val_mean_absolute_error: 0.0853 - val_acc: 1.0000\n",
      "Epoch 47/50\n",
      "133/133 [==============================] - 0s 172us/step - loss: 0.1454 - mean_absolute_error: 0.0814 - acc: 0.9850 - val_loss: 0.1434 - val_mean_absolute_error: 0.0832 - val_acc: 1.0000\n",
      "Epoch 48/50\n",
      "133/133 [==============================] - 0s 135us/step - loss: 0.1421 - mean_absolute_error: 0.0795 - acc: 0.9850 - val_loss: 0.1400 - val_mean_absolute_error: 0.0813 - val_acc: 1.0000\n",
      "Epoch 49/50\n",
      "133/133 [==============================] - 0s 157us/step - loss: 0.1385 - mean_absolute_error: 0.0776 - acc: 0.9850 - val_loss: 0.1368 - val_mean_absolute_error: 0.0795 - val_acc: 1.0000\n",
      "Epoch 50/50\n",
      "133/133 [==============================] - 0s 150us/step - loss: 0.1355 - mean_absolute_error: 0.0758 - acc: 0.9850 - val_loss: 0.1337 - val_mean_absolute_error: 0.0778 - val_acc: 1.0000\n",
      "_________________________________________________________________\n",
      "Layer (type)                 Output Shape              Param #   \n",
      "=================================================================\n",
      "dense_1 (Dense)              (None, 128)               1664      \n",
      "_________________________________________________________________\n",
      "dense_2 (Dense)              (None, 3)                 387       \n",
      "=================================================================\n",
      "Total params: 2,051\n",
      "Trainable params: 2,051\n",
      "Non-trainable params: 0\n",
      "_________________________________________________________________\n",
      "None\n"
     ]
    },
    {
     "data": {
      "image/png": "[encoded data removed]",
      "text/plain": [
       "<Figure size 432x288 with 1 Axes>"
      ]
     },
     "metadata": {},
     "output_type": "display_data"
    }
   ],
   "source": [
    "# Build model\n",
    "from keras.optimizers import Adam, RMSprop, SGD\n",
    "model = Sequential()\n",
    "model.add(Dense(128, input_shape=(s, ), use_bias=False, activation='relu'))\n",
    "#model.add(Dense(128, activation='relu'))\n",
    "#model.add(Dense(128, activation='relu'))\n",
    "#model.add(Dense(128, activation='relu'))\n",
    "model.add(Dense(nb_classes, activation='softmax'))\n",
    "#opt = keras.optimizers.Adam(lr=0.08)\n",
    "#opt = keras.optimizers.RMSprop(lr=0.08)\n",
    "opt = keras.optimizers.SGD(lr=0.08)\n",
    "\n",
    "model.compile(optimizer=opt,\n",
    "      loss='categorical_crossentropy',\n",
    "      metrics=['mae', 'acc'])\n",
    "\n",
    "# Start training\n",
    "history = model.fit(train_X, train_Y1, epochs=50, batch_size=20, verbose=1, validation_data=(test_X,test_Y1))\n",
    "\n",
    "print(model.summary())\n",
    "open(\"model\", \"w\").write(model.to_json())\n",
    "model.save_weights('param.hdf5')\n",
    "\n",
    "weights = model.get_weights()\n",
    "\n",
    "# plot val_loss 損失値の推移をプロット\n",
    "plt.plot(history.history['val_loss'])\n",
    "plt.plot(history.history['val_acc'])\n",
    "plt.show()"
   ]
  },
  {
   "cell_type": "markdown",
   "metadata": {},
   "source": [
    "# 結果\n",
    "上記のグラフのように、val_accであるオレンジのグラフが1に近づいて行ったことから学習は成功したと思います。"
   ]
  },
  {
   "cell_type": "code",
   "execution_count": null,
   "metadata": {},
   "outputs": [],
   "source": []
  }
 ],
 "metadata": {
  "kernelspec": {
   "display_name": "Python 3",
   "language": "python",
   "name": "python3"
  },
  "language_info": {
   "codemirror_mode": {
    "name": "ipython",
    "version": 3
   },
   "file_extension": ".py",
   "mimetype": "text/x-python",
   "name": "python",
   "nbconvert_exporter": "python",
   "pygments_lexer": "ipython3",
   "version": "3.6.5"
  }
 },
 "nbformat": 4,
 "nbformat_minor": 2
}
